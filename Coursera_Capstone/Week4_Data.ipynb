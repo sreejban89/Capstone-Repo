{
 "cells": [
  {
   "cell_type": "markdown",
   "metadata": {},
   "source": [
    "\n",
    "<h1>Battle of Neighbourhoods Data Description<h1>\n",
    "\n",
    "    Data Link: <a href=\"https://en.wikipedia.org/wiki/List_of_postal_codes_of_Canada:_M\">https://en.wikipedia.org/wiki/List_of_postal_codes_of_Canada:_M</a>\n",
    "\n",
    "<h2>Foursquare API:</h2>\n",
    "We will need information of different neighbourhoods in North York. We will use the Foursquare API to gather this information. All the necessary information will be available in the Foursquare API, therefore it will be the sole data source for this project. For each neighbourhood, we will use a radius of 120 meters.\n",
    "\n",
    "<h3>The data to be obtained for each venue will be as follows:</h3>\n",
    "Neighborhood\n",
    "Neighborhood Latitude\n",
    "Neighborhood Longitude\n",
    "Venues (eg. restaurants, cafes, etc.)\n",
    "Name of the venue (eg. name of restaurant, or name of a store, or school, etc.)\n",
    "Venue Latitude (venue as in restaurants and other facilities inside the neighbourhood, not the neighbourhood itself)\n",
    "Venue Longitude\n",
    "Venue Category"
   ]
  },
  {
   "cell_type": "code",
   "execution_count": null,
   "metadata": {},
   "outputs": [],
   "source": []
  }
 ],
 "metadata": {
  "kernelspec": {
   "display_name": "Python",
   "language": "python",
   "name": "conda-env-python-py"
  },
  "language_info": {
   "codemirror_mode": {
    "name": "ipython",
    "version": 3
   },
   "file_extension": ".py",
   "mimetype": "text/x-python",
   "name": "python",
   "nbconvert_exporter": "python",
   "pygments_lexer": "ipython3",
   "version": "3.6.11"
  }
 },
 "nbformat": 4,
 "nbformat_minor": 4
}
